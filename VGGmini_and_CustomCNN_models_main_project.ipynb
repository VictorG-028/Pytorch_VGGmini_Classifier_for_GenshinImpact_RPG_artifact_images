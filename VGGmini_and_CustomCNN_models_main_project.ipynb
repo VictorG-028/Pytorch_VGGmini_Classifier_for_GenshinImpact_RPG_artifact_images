{
  "cells": [
    {
      "cell_type": "markdown",
      "metadata": {
        "id": "7bON0zPT0R7l"
      },
      "source": [
        "#### Aluno: Victor Gabriel Tenório Oliveira\n",
        "---\n",
        "projeto2VA_redes_neurais"
      ]
    },
    {
      "cell_type": "markdown",
      "metadata": {
        "id": "ZX_2N_7E0QCf"
      },
      "source": [
        "# Configuração inicial"
      ]
    },
    {
      "cell_type": "code",
      "execution_count": null,
      "metadata": {
        "colab": {
          "base_uri": "https://localhost:8080/"
        },
        "id": "E2EVZZwwpIj7",
        "outputId": "29d8267d-ec92-489b-a760-70c8081662a5"
      },
      "outputs": [
        {
          "name": "stdout",
          "output_type": "stream",
          "text": [
            "  Preparing metadata (setup.py) ... \u001b[?25l\u001b[?25hdone\n",
            "  Building wheel for minisom (setup.py) ... \u001b[?25l\u001b[?25hdone\n"
          ]
        }
      ],
      "source": [
        "!pip install minisom --quiet\n",
        "!pip install pytz --quiet"
      ]
    },
    {
      "cell_type": "code",
      "execution_count": null,
      "metadata": {
        "colab": {
          "base_uri": "https://localhost:8080/"
        },
        "id": "qXr4wg5u8Zsc",
        "outputId": "10369b71-9049-4ca3-da66-9825060d5bd2"
      },
      "outputs": [
        {
          "name": "stdout",
          "output_type": "stream",
          "text": [
            "Mounted at /content/drive\n"
          ]
        }
      ],
      "source": [
        "from google.colab import drive\n",
        "drive.mount('/content/drive')"
      ]
    },
    {
      "cell_type": "code",
      "execution_count": null,
      "metadata": {
        "colab": {
          "base_uri": "https://localhost:8080/"
        },
        "id": "MuF402dR4fQJ",
        "outputId": "d4ec65ca-67b1-45c9-b786-ece580b48a04"
      },
      "outputs": [
        {
          "name": "stdout",
          "output_type": "stream",
          "text": [
            "cpu\n"
          ]
        }
      ],
      "source": [
        "# from sklearn.metrics import precision_score\n",
        "import matplotlib.pyplot as plt\n",
        "from datetime import datetime\n",
        "from minisom import MiniSom\n",
        "from PIL import Image\n",
        "import numpy as np\n",
        "import itertools\n",
        "import pytz\n",
        "import csv\n",
        "import os\n",
        "\n",
        "import torch\n",
        "import torch.nn as nn\n",
        "import torch.nn.functional as F\n",
        "from torch.utils.data import DataLoader\n",
        "from torchvision import datasets, transforms\n",
        "\n",
        "RANDOM_SEED = 42\n",
        "torch.manual_seed(RANDOM_SEED)\n",
        "\n",
        "tz = pytz.timezone('America/Recife')\n",
        "\n",
        "ACCURACY_THRESHOLD = 80.0\n",
        "\n",
        "# para salvar métricas dos resultados no Drive\n",
        "result_path = \"/content/drive/MyDrive/Projeto de Redes Neurais/results.csv\"\n",
        "current_id_path = \"/content/drive/MyDrive/Projeto de Redes Neurais/current_id.txt\"\n",
        "metrics_log_path = \"/content/drive/MyDrive/Projeto de Redes Neurais/metrics_log.txt\"\n",
        "saved_models_path = \"/content/drive/MyDrive/Projeto de Redes Neurais/saved models\"\n",
        "# metrics_log_file = open(metrics_log_path, 'a')\n",
        "\n",
        "# Troca aqui para treinar predizer conjunto de artefato ou raridade\n",
        "# train_predict_artifact_set = True\n",
        "\n",
        "\n",
        "# check device\n",
        "DEVICE = 'cuda' if torch.cuda.is_available() else 'cpu'\n",
        "print(DEVICE)"
      ]
    },
    {
      "cell_type": "code",
      "execution_count": null,
      "metadata": {
        "id": "DTepDcAffKW3"
      },
      "outputs": [],
      "source": [
        "# Mostra todos os styles do matplotlib\n",
        "# plt.style.available"
      ]
    },
    {
      "cell_type": "code",
      "execution_count": null,
      "metadata": {
        "id": "x5RpJWBiXVBY"
      },
      "outputs": [],
      "source": [
        "loss_functions = {\n",
        "    'nn.L1Loss': {'loss function': nn.L1Loss, 'L1 lambda': 0.0},\n",
        "    'nn.MSELoss': {'loss function': nn.MSELoss, 'L1 lambda': 0.0},\n",
        "    'nn.CrossEntropyLoss': {'loss function': nn.CrossEntropyLoss, 'L1 lambda': 0.0},\n",
        "    'nn.NLLLoss': {'loss function': nn.NLLLoss, 'L1 lambda': 0.0},\n",
        "    'nn.HingeEmbeddingLoss': {'loss function': nn.HingeEmbeddingLoss, 'L1 lambda': 0.0},\n",
        "    'nn.MarginRankinLoss': {'loss function': nn.MarginRankingLoss, 'L1 lambda': 0.0},\n",
        "    'nn.TripleMarginLoss': {'loss function': nn.TripletMarginLoss, 'L1 lambda': 0.0},\n",
        "    'nn.KLDivLoss': {'loss function': nn.KLDivLoss, 'L1 lambda': 0.0},\n",
        "}\n",
        "\n",
        "L1_lambda = 0.0001\n",
        "L1_norm = lambda model: sum(p.abs().sum() for p in model.parameters())\n",
        "loss_functions['with L1'] = {\n",
        "    'nn.L1Loss': {'loss function': nn.L1Loss, 'L1 lambda': L1_lambda},\n",
        "    'nn.MSELoss': {'loss function': nn.MSELoss, 'L1 lambda': L1_lambda},\n",
        "    'nn.CrossEntropyLoss': {'loss function': nn.CrossEntropyLoss, 'L1 lambda': L1_lambda},\n",
        "    'nn.NLLLoss': {'loss function': nn.NLLLoss, 'L1 lambda': L1_lambda},\n",
        "    'nn.HingeEmbeddingLoss': {'loss function': nn.HingeEmbeddingLoss, 'L1 lambda': L1_lambda},\n",
        "    'nn.MarginRankinLoss': {'loss function': nn.MarginRankingLoss, 'L1 lambda': L1_lambda},\n",
        "    'nn.TripleMarginLoss': {'loss function': nn.TripletMarginLoss, 'L1 lambda': L1_lambda},\n",
        "    'nn.KLDivLoss': {'loss function': nn.KLDivLoss, 'L1 lambda': L1_lambda},\n",
        "}\n",
        "\n",
        "optimizers = {\n",
        "    'torch.optim.SGD': {'optimizer function': torch.optim.SGD, 'weight decay': 0.0},\n",
        "    'torch.optim.Adam': {'optimizer function': torch.optim.Adam, 'weight decay': 0.0},\n",
        "    'torch.optim.Adadelta': {'optimizer function': torch.optim.Adadelta, 'weight decay': 0.0},\n",
        "    'torch.optim.Adagrad': {'optimizer function': torch.optim.Adagrad, 'weight decay': 0.0},\n",
        "    'torch.optim.AdamW': {'optimizer function': torch.optim.AdamW, 'weight decay': 0.0},\n",
        "    'torch.optim.SparseAdam': {'optimizer function': torch.optim.SparseAdam, 'weight decay': 0.0},\n",
        "    'torch.optim.Adamax': {'optimizer function': torch.optim.Adamax, 'weight decay': 0.0},\n",
        "    'torch.optim.ASGD': {'optimizer function': torch.optim.ASGD, 'weight decay': 0.0},\n",
        "    'torch.optim.LBFGS': {'optimizer function': torch.optim.LBFGS, 'weight decay': 0.0},\n",
        "    'torch.optim.RMSprop': {'optimizer function': torch.optim.RMSprop, 'weight decay': 0.0},\n",
        "    'torch.optim.Rprop': {'optimizer function': torch.optim.Rprop, 'weight decay': 0.0}\n",
        "}\n",
        "\n",
        "weight_decay = 0.001\n",
        "optimizers['with L2'] = {\n",
        "    'torch.optim.SGD': {'optimizer function': torch.optim.SGD, 'weight decay': weight_decay},\n",
        "    'torch.optim.Adam': {'optimizer function': torch.optim.Adam, 'weight decay': weight_decay},\n",
        "    'torch.optim.Adadelta': {'optimizer function': torch.optim.Adadelta, 'weight decay': weight_decay},\n",
        "    'torch.optim.Adagrad': {'optimizer function': torch.optim.Adagrad, 'weight decay': weight_decay},\n",
        "    'torch.optim.AdamW': {'optimizer function': torch.optim.AdamW, 'weight decay': weight_decay},\n",
        "    'torch.optim.SparseAdam': {'optimizer function': torch.optim.SparseAdam, 'weight decay': weight_decay},\n",
        "    'torch.optim.Adamax': {'optimizer function': torch.optim.Adamax, 'weight decay': weight_decay},\n",
        "    'torch.optim.ASGD': {'optimizer function': torch.optim.ASGD, 'weight decay': weight_decay},\n",
        "    'torch.optim.LBFGS': {'optimizer function': torch.optim.LBFGS, 'weight decay': weight_decay},\n",
        "    'torch.optim.RMSprop': {'optimizer function': torch.optim.RMSprop, 'weight decay': weight_decay},\n",
        "    'torch.optim.Rprop': {'optimizer function': torch.optim.Rprop, 'weight decay': weight_decay}\n",
        "}"
      ]
    },
    {
      "cell_type": "markdown",
      "metadata": {
        "id": "bw5R1i_UzmHR"
      },
      "source": [
        "# Parâmetros"
      ]
    },
    {
      "cell_type": "code",
      "execution_count": null,
      "metadata": {
        "id": "1EsWgxtbzoEI"
      },
      "outputs": [],
      "source": [
        "# Para o treinamento com dataset de conjunto de artefato\n",
        "# esse ou mais épocas, 33, 34, 36, 40, 75\n",
        "CNN_LEARNING_RATES = [3e-4] # [5e-3, 5e-4] [1e-3, 1e-4, 5e-5]\n",
        "BATCH_SIZES = [101] # [50]\n",
        "N_EPOCHS = [75]\n",
        "CRITERIONS = [\n",
        "    loss_functions['nn.CrossEntropyLoss'],\n",
        "]\n",
        "OPTIMIZERS = [\n",
        "    optimizers['with L2']['torch.optim.RMSprop'],\n",
        "]\n",
        "\n",
        "SOM_LEARNING_RATES = [5e-1]\n",
        "SOM_SIZES = [{'lines': 30, 'colums': 30}]\n",
        "ITERATIONS = [303]\n",
        "SIGMAS = [3]\n",
        "\n",
        "# Todas as combinações de parâmetros de conjunto de artefato\n",
        "params_cnn = list(itertools.product(\n",
        "    CNN_LEARNING_RATES, BATCH_SIZES, N_EPOCHS, CRITERIONS, OPTIMIZERS\n",
        "))\n",
        "params_som = list(itertools.product(\n",
        "    SOM_LEARNING_RATES, SOM_SIZES, ITERATIONS, SIGMAS\n",
        "))\n",
        "\n",
        "################################################################################\n",
        "\n",
        "# Parâmetros para o treino com dataset de raridade de artefato\n",
        "CNN_LEARNING_RATES_2 = [7.5e-5]\n",
        "BATCH_SIZES_2 = [39]\n",
        "N_EPOCHS_2 = [23]\n",
        "CRITERIONS_2 = [\n",
        "    loss_functions['with L1']['nn.CrossEntropyLoss'],\n",
        "]\n",
        "new_ewight_decay = 0.001\n",
        "optimizers['with L2']['torch.optim.Adam']['weight decay'] = new_ewight_decay\n",
        "OPTIMIZERS_2 = [\n",
        "    # optimizers[\"torch.optim.Adam\"],\n",
        "    optimizers['with L2']['torch.optim.Adam'],\n",
        "]\n",
        "\n",
        "SOM_LEARNING_RATES_2 = [5e-1]\n",
        "SOM_SIZES_2 = [{'lines': 30, 'colums': 30}]\n",
        "ITERATIONS_2 = [335]\n",
        "SIGMAS_2 = [2]\n",
        "\n",
        "# Usados na parte de treinar com raridade de raridade de artefato\n",
        "params_cnn_2 = list(itertools.product(\n",
        "    CNN_LEARNING_RATES_2, BATCH_SIZES_2, N_EPOCHS_2, CRITERIONS_2, OPTIMIZERS_2\n",
        "))\n",
        "params_som_2 = list(itertools.product(\n",
        "    SOM_LEARNING_RATES_2, SOM_SIZES_2, ITERATIONS_2, SIGMAS_2\n",
        "))\n",
        "\n",
        "# Dados úteis da imagem de treino\n",
        "START_IMG_SIZE = {'height': 560, 'width': 328} # 189 x 328\n",
        "CROP_SIZE = 371\n",
        "RESIZE_FACTOR = 0.5\n",
        "FINAL_IMG_SIZE = {\n",
        "    'height': int((START_IMG_SIZE['height'] - CROP_SIZE) * RESIZE_FACTOR),\n",
        "    'width':  int(START_IMG_SIZE['width'] * RESIZE_FACTOR)\n",
        "}\n",
        "\n",
        "# Number of target classes\n",
        "RARITY_N = 2\n",
        "ARTIFACT_SET_N = 40"
      ]
    },
    {
      "cell_type": "markdown",
      "metadata": {
        "id": "BCuQGQ32RnrE"
      },
      "source": [
        "---\n",
        "# Definição das Redes\n",
        "- SOM (Implementação da biblioteca Mini Som)\n",
        "- VGG-mini\n",
        "<!-- - CustomCNN -->"
      ]
    },
    {
      "cell_type": "markdown",
      "metadata": {
        "id": "o8uwpsqi4fQM"
      },
      "source": [
        "### VGG-mini"
      ]
    },
    {
      "cell_type": "code",
      "execution_count": null,
      "metadata": {
        "id": "tSdPdoxc4fQM"
      },
      "outputs": [],
      "source": [
        "class VGG_mini(nn.Module):\n",
        "\n",
        "    def __init__(self, n_classes):\n",
        "        super(VGG_mini, self).__init__()\n",
        "\n",
        "        # Maxpool 2x2\n",
        "        self.pool = nn.MaxPool2d(kernel_size=2, stride=2)\n",
        "\n",
        "        # Conv layers with batch norm\n",
        "        self.conv1 = nn.Conv2d(in_channels=1, out_channels=64, kernel_size=3, padding = 1)\n",
        "        self.norm1 = nn.BatchNorm2d(64)\n",
        "\n",
        "        self.conv2 = nn.Conv2d(64, 64, 3, padding = 1)\n",
        "        self.norm2 = nn.BatchNorm2d(64)\n",
        "\n",
        "        self.conv3 = nn.Conv2d(64, 128, 3, padding = 1)\n",
        "        self.norm3 = nn.BatchNorm2d(128)\n",
        "\n",
        "        self.conv4 = nn.Conv2d(128, 128, 3, padding = 1)\n",
        "        self.norm4 = nn.BatchNorm2d(128)\n",
        "\n",
        "        self.conv5 = nn.Conv2d(128, 256, 3, padding = 1)\n",
        "        self.norm5 = nn.BatchNorm2d(256)\n",
        "\n",
        "        self.conv6 = nn.Conv2d(256, 256, 3, padding = 1)\n",
        "        self.norm6 = nn.BatchNorm2d(256)\n",
        "\n",
        "        self.conv7 = nn.Conv2d(256, 512, 3, padding = 1)\n",
        "        self.norm7 = nn.BatchNorm2d(512)\n",
        "\n",
        "        self.conv8 = nn.Conv2d(512, 512, 3, padding = 1)\n",
        "        self.norm8 = nn.BatchNorm2d(512)\n",
        "\n",
        "        # fully connected layer with batch norm\n",
        "        # Caso tamanho original -> 189 x 328 -> 94 x 82 -> 23 x 41 -> 11 x 20 -> 512 * 11 * 20 = 112640 elements\n",
        "        # self.fc1 = nn.Linear(in_features = 112640, out_features = 128)\n",
        "        self.fc1 = nn.Linear(in_features = 512 * 5 * 10, out_features = 128)\n",
        "        self.norm9 = nn.BatchNorm1d(128)\n",
        "\n",
        "        self.fc2 = nn.Linear(128, 64)\n",
        "        self.norm10 = nn.BatchNorm1d(64)\n",
        "\n",
        "        self.fc3 = nn.Linear(64, n_classes)\n",
        "\n",
        "\n",
        "    def forward(self, x):\n",
        "        # Para o caso de batch_size = 1\n",
        "\n",
        "        # x.size() -> [1(batch_size), 1(grayscale/input_channels), 94(height), 164(width)]\n",
        "        # 1 * 1 * 94 * 164 -> 15416 matrix elements -> pixels of input image\n",
        "        out = F.elu(self.norm1(self.conv1(x)))   # out.size() -> [1(batch_size), 64(out_channels), 94(padding), 164(padding)] -> 986624 * 1(batch_size)\n",
        "        out = F.elu(self.norm2(self.conv2(out))) # out.size() -> [1(batch_size), 64(out_channels), 94(padding), 164(padding)] -> 986624 * 1(batch_size)\n",
        "        out = self.pool(out)                     # out.size() -> [1(batch_size), 64(out_channels), 47(halfed) , 82(halfed)  ] -> 246656 * 1(batch_size)\n",
        "\n",
        "        out = F.elu(self.norm3(self.conv3(out))) # out.size() -> [1(batch_size), 128(out_channels), 47(padding), 82(padding)] -> 493312 * 1(batch_size)\n",
        "        out = F.elu(self.norm4(self.conv4(out))) # out.size() -> [1(batch_size), 128(out_channels), 47(padding), 82(padding)] -> 493312 * 1(batch_size)\n",
        "        out = self.pool(out)                     # out.size() -> [1(batch_size), 128(out_channels), 23(halfed) , 41(halfed) ] -> 120704 * 1(batch_size)\n",
        "\n",
        "        out = F.elu(self.norm5(self.conv5(out))) # out.size() -> [1(batch_size), 256(out_channels), 23(padding), 41(padding)] -> 241408 * 1(batch_size)\n",
        "        out = F.elu(self.norm6(self.conv6(out))) # out.size() -> [1(batch_size), 256(out_channels), 23(padding), 41(padding)] -> 241408 * 1(batch_size)\n",
        "        out = self.pool(out)                     # out.size() -> [1(batch_size), 256(out_channels), 11(halfed) , 20(halfed) ] -> 56320 * 1(batch_size)\n",
        "\n",
        "        out = F.elu(self.norm7(self.conv7(out))) # out.size() -> [1(batch_size), 512(out_channels), 11(halfed) , 20(halfed) ] -> 112640 * 1(batch_size)\n",
        "        out = F.elu(self.norm8(self.conv8(out))) # out.size() -> [1(batch_size), 512(out_channels), 11(halfed) , 20(halfed) ] -> 112640 * 1(batch_size)\n",
        "        out = self.pool(out)                     # out.size() -> [1(batch_size), 512(out_channels), 5(halfed)  , 10(halfed) ] -> 25600 * 1(batch_size)\n",
        "\n",
        "        out = out.view(-1, 512 * 5 * 10)         # out.size() -> [1(batch_size), 25600(number_of_elements/numel)] -> 25600 * 1(batch_size)\n",
        "        # Caso tamanho original -> 189 x 328 -> 94 x 82 -> 23 x 41 -> 11 x 20 -> 512 * 11 * 20 = 112640 elements\n",
        "        # out = out.view(-1, 112640)               # out.size() -> [1(batch_size), 25600(number_of_elements/numel)] -> 25600 * 1(batch_size)\n",
        "\n",
        "        out = F.elu(self.norm9(self.fc1(out)))   # out.size() -> [1(batch_size), 128] -> 128 * 1(batch_size)\n",
        "        out = F.elu(self.norm10(self.fc2(out)))  # out.size() -> [1(batch_size),  64] -> 64 * 1(batch_size)\n",
        "        out = self.fc3(out)\n",
        "        # temp = out\n",
        "        probs = F.softmax(out, dim=1)            # out.size() -> [1(batch_size),  43(ARTIFACT_SET_N)] -> 64 * 1(batch_size)\n",
        "\n",
        "\n",
        "        # print(\"+++++++++++++++++++++\")\n",
        "        # # print(temp)\n",
        "        # print(temp.numel())\n",
        "        # print(temp.size())\n",
        "        # print(type(temp))\n",
        "        # input(\">>>\")\n",
        "        # print(\"+++++++++++++++++++++\")\n",
        "\n",
        "        return out, probs"
      ]
    },
    {
      "cell_type": "markdown",
      "metadata": {
        "id": "9UGdEJkISAqB"
      },
      "source": [
        "### CustomCNN"
      ]
    },
    {
      "cell_type": "code",
      "execution_count": null,
      "metadata": {
        "id": "azxVfuezSHeh"
      },
      "outputs": [],
      "source": [
        "class Custom_CNN(nn.Module):\n",
        "\n",
        "    def __init__(self, n_classes):\n",
        "        super(Custom_CNN, self).__init__()\n",
        "\n",
        "        # Avgpool 2x2 - Usada nas camadas 4 e 8\n",
        "        self.pool = nn.AvgPool2d(kernel_size=2, stride=2)\n",
        "\n",
        "        # Layer 1\n",
        "        self.conv1 = nn.Conv2d(in_channels=1, out_channels=32, kernel_size=5, padding=2)\n",
        "        self.norm1 = nn.BatchNorm2d(num_features=32)\n",
        "        # ReLU\n",
        "\n",
        "        # Layer 2\n",
        "        self.conv2 = nn.Conv2d(in_channels=32, out_channels=32, kernel_size=5, padding=2)\n",
        "        self.norm2 = nn.BatchNorm2d(num_features=32)\n",
        "        # ReLU\n",
        "\n",
        "        # Layer 3\n",
        "        self.conv3 = nn.Conv2d(in_channels=32, out_channels=32, kernel_size=5, padding=2)\n",
        "        self.norm3 = nn.BatchNorm2d(num_features=32)\n",
        "        # ReLU\n",
        "\n",
        "        # Layer 4\n",
        "        # avg pool\n",
        "\n",
        "        # Layer 5\n",
        "        self.conv5 = nn.Conv2d(in_channels=32, out_channels=64, kernel_size=5, padding=2)\n",
        "        self.norm5 = nn.BatchNorm2d(num_features=64)\n",
        "        # ReLU\n",
        "\n",
        "        # Layer 6\n",
        "        self.conv6 = nn.Conv2d(in_channels=64, out_channels=64, kernel_size=5, padding=2)\n",
        "        self.norm6 = nn.BatchNorm2d(num_features=64)\n",
        "        # ReLU\n",
        "\n",
        "        # Layer 7\n",
        "        self.conv7 = nn.Conv2d(in_channels=64, out_channels=64, kernel_size=5, padding=2)\n",
        "        self.norm7 = nn.BatchNorm2d(num_features=64)\n",
        "        # ReLU\n",
        "\n",
        "        # Layer 8\n",
        "        # avg pool\n",
        "\n",
        "        # Layer 9\n",
        "        self.fc9 = nn.Linear(in_features=64 * 23 * 41, out_features=128)\n",
        "        # self.fc9 = nn.Linear(in_features=246656, out_features=128)\n",
        "        self.norm9 = nn.BatchNorm1d(num_features=128)\n",
        "        # ReLU\n",
        "\n",
        "        # Layer 10\n",
        "        self.fc10 = nn.Linear(in_features=128, out_features=64)\n",
        "        self.norm10 = nn.BatchNorm1d(num_features=64)\n",
        "        # ReLU\n",
        "\n",
        "        # Layer 11\n",
        "        self.fc11 = nn.Linear(in_features=64, out_features=n_classes)\n",
        "\n",
        "\n",
        "    def forward(self, x):\n",
        "\n",
        "        def print_tensor_info(tensor):\n",
        "            print(\"+++++++++++++++++++++\")\n",
        "            # print(tensor)\n",
        "            print(tensor.numel())\n",
        "            print(tensor.size())\n",
        "            print(type(tensor))\n",
        "            input(\">>>\")\n",
        "            print(\"+++++++++++++++++++++\")\n",
        "\n",
        "        # Para o caso de batch_size = 1\n",
        "        # x.size() -> [1(batch_size), 1(grayscale/input_channels), 94(height), 164(width)]\n",
        "        # 1 * 1 * 94 * 164 -> 15416 matrix elements -> pixels of input image\n",
        "\n",
        "        out = F.relu(self.norm1(self.conv1(x)))   # out.size() -> [1(batch_size), 32(out_channels), 94(height/kernel/padding), 164(height/kernel/padding)] -> 493312 * 1(batch_size) total elements\n",
        "        out = F.relu(self.norm2(self.conv2(out)) )# out.size() -> [1(batch_size), 32(out_channels), 94(height/kernel/padding), 164(height/kernel/padding)] -> 493312 * 1(batch_size) total elements\n",
        "        out = F.relu(self.norm3(self.conv3(out))) # out.size() -> [1(batch_size), 32(out_channels), 94(height/kernel/padding), 164(height/kernel/padding)] -> 493312 * 1(batch_size) total elements\n",
        "\n",
        "        out = self.pool(out)                      # out.size() -> [1(batch_size), 32(out_channels), 47(halfed),                82(halfed)                ] -> 123328 * 1(batch_size) total elements\n",
        "\n",
        "        out = F.relu(self.norm5(self.conv5(out))) # out.size() -> [1(batch_size), 64(out_channels), 47(height/kernel/padding),  82(height/kernel/padding)] -> 246656 * 1(batch_size) total elements\n",
        "        out = F.relu(self.norm6(self.conv6(out))) # out.size() -> [1(batch_size), 64(out_channels), 47(height/kernel/padding),  82(height/kernel/padding)] -> 246656 * 1(batch_size) total elements\n",
        "        out = F.relu(self.norm7(self.conv7(out))) # out.size() -> [1(batch_size), 64(out_channels), 47(height/kernel/padding),  82(height/kernel/padding)] -> 246656 * 1(batch_size) total elements\n",
        "\n",
        "        out = self.pool(out)                      # out.size() -> [1(batch_size), 64(out_channels), 23(halfed by pooling),      41(halfed by pooling)    ] ->  60352 * 1(batch_size) total elements\n",
        "\n",
        "        out = out.view(-1, 64 * 23 * 41)          # out.size() -> [1(batch_size), 60352(numel of before layer)] -> 60352 * 1(batch_size) total elements\n",
        "        # out = out.view(-1, 246656)                # out.size() -> [1(batch_size), 60352(numel of before layer)] -> 60352 * 1(batch_size) total elements\n",
        "\n",
        "        out = F.relu(self.norm9(self.fc9(out)))   # out.size() -> [1(batch_size), 128(number of out neurons)] -> 128 * 1(batch_size) total elements\n",
        "        out = F.relu(self.norm10(self.fc10(out))) # out.size() -> [1(batch_size),  64(number of out neurons)] ->  64 * 1(batch_size) total elements\n",
        "        out = self.fc11(out)                      # out.size() -> [1(batch_size),  n_classes(number of out neurons)] ->  n_classes * 1(batch_size) total elements\n",
        "        probs = F.softmax(out, dim=1)\n",
        "\n",
        "        return out, probs"
      ]
    },
    {
      "cell_type": "markdown",
      "metadata": {
        "id": "lGe2h-_L4fQN"
      },
      "source": [
        "---\n",
        "# Dataset"
      ]
    },
    {
      "cell_type": "code",
      "execution_count": null,
      "metadata": {
        "id": "ttIUzVNp4fQN"
      },
      "outputs": [],
      "source": [
        "###############################\n",
        "###### Pre-processamento ######\n",
        "\n",
        "class BottomCrop: # Crop tensor images\n",
        "    def __init__(self, crop_size):\n",
        "        self.crop_size = crop_size\n",
        "\n",
        "    def __call__(self, img):\n",
        "        img_cropped = img[:, :-self.crop_size]\n",
        "        return img_cropped\n",
        "\n",
        "def crop_bottom(img, crop_height): # Crop PIL images\n",
        "    width, height = img.size\n",
        "    box = (0, 0, width, height - crop_height)\n",
        "    return img.crop(box)\n",
        "\n",
        "# Define pipelines de pre-processamento\n",
        "train_transform_pipeline = transforms.Compose([\n",
        "    transforms.ToTensor(),                            # To Tensor\n",
        "    BottomCrop(crop_size=CROP_SIZE),                  # Crop bottom by 371 pixels\n",
        "    transforms.Resize(list(FINAL_IMG_SIZE.values())), # Resize\n",
        "    transforms.Grayscale(num_output_channels=1),      # Grayscale\n",
        "])\n",
        "\n",
        "validate_transform_pipeline = transforms.Compose([\n",
        "    transforms.ToTensor(),                            # ToTensor\n",
        "    transforms.Resize(list(FINAL_IMG_SIZE.values())), # Resize\n",
        "    transforms.Grayscale(num_output_channels=1),      # Grayscale\n",
        "])\n",
        "\n",
        "som_preprocessing_steps = [\n",
        "    lambda img: img.convert('L'),                           # Grayscale\n",
        "    lambda img: crop_bottom(img, 371),                      # Crop bottom by 371 pixels\n",
        "    lambda img: img.resize(tuple(FINAL_IMG_SIZE.values())), # Resize\n",
        "    np.array,                                               # To Numpy array\n",
        "    lambda img: img / 255.0,                                # Normalize\n",
        "    lambda img: img.flatten(),                              # To 1D vector\n",
        "]\n",
        "\n",
        "######################\n",
        "###### Datasets ######\n",
        "\n",
        "# drive_path_rascunho = \"/content/drive/MyDrive/Projeto de Redes Neurais/OldArtifactDataset/validation/images\"\n",
        "# drive_path_validate_alternative = \"/content/drive/MyDrive/Projeto de Redes Neurais/validation/wiki_images_by_artifact_set\"\n",
        "drive_path_train_by_artifact_set    = \"/content/drive/MyDrive/Projeto de Redes Neurais/train/images_by_artifact_set\"\n",
        "drive_path_validate_by_artifact_set = \"/content/drive/MyDrive/Projeto de Redes Neurais/validation/images_by_artifact_set\"\n",
        "drive_path_train_by_rarity          = \"/content/drive/MyDrive/Projeto de Redes Neurais/train/images_by_rarity\"\n",
        "drive_path_validate_by_rarity       = \"/content/drive/MyDrive/Projeto de Redes Neurais/validation/images_by_rarity\"\n",
        "\n",
        "# if train_predict_artifact_set:\n",
        "#     drive_path_train_dataset = drive_path_train_by_artifact_set\n",
        "#     drive_path_validate_dataset = drive_path_validate_by_artifact_set\n",
        "# else:\n",
        "#     drive_path_train_dataset = drive_path_train_by_rarity\n",
        "#     drive_path_validate_dataset = drive_path_validate_by_rarity\n",
        "\n",
        "def define_train_dataset(train_path, validation_path):\n",
        "    # Define datasets das cnns\n",
        "    train_dataset = datasets.ImageFolder(\n",
        "        root      = train_path,\n",
        "        transform = train_transform_pipeline\n",
        "    )\n",
        "\n",
        "    validation_dataset = datasets.ImageFolder(\n",
        "        root      = validation_path,\n",
        "        transform = validate_transform_pipeline\n",
        "    )\n",
        "\n",
        "    X_train, y_train, X_validate, y_validate = None, None, None, None\n",
        "    # # Dataset da rede SOM\n",
        "    # X_train = []\n",
        "    # y_train = []\n",
        "    # for sub_dir in os.listdir(drive_path_train_dataset):\n",
        "    #     for img_name in os.listdir(f\"{drive_path_train_dataset}/{sub_dir}\"):\n",
        "    #         img = Image.open(f'{drive_path_train_dataset}/{sub_dir}/{img_name}')\n",
        "\n",
        "    #         for apply_preprocess_step in som_preprocessing_steps:\n",
        "    #             img = apply_preprocess_step(img)\n",
        "\n",
        "    #         X_train.append(img)\n",
        "    #         y_train.append(sub_dir)\n",
        "\n",
        "    # X_train = np.array(X_train)\n",
        "    # y_train = np.array(y_train)\n",
        "\n",
        "    # X_validate = []\n",
        "    # y_validate = []\n",
        "    # for sub_dir in os.listdir(drive_path_validate_dataset):\n",
        "    #     for img_name in os.listdir(f\"{drive_path_validate_dataset}/{sub_dir}\"):\n",
        "\n",
        "    #         img = Image.open(f'{drive_path_validate_dataset}/{sub_dir}/{img_name}')\n",
        "\n",
        "    #         for apply_preprocess_step in som_preprocessing_steps:\n",
        "    #             img = apply_preprocess_step(img)\n",
        "    #             # debug cada etapa de pré-processamento\n",
        "    #             # if isinstance(img, np.ndarray):\n",
        "    #             #     print(img.shape, img.dtype) # exibe informações sobre o array numpy\n",
        "    #             # else:\n",
        "    #             #     print(img.size, img.mode) # exibe informações da imagem PIL\n",
        "\n",
        "\n",
        "    #         X_validate.append(img)\n",
        "    #         y_validate.append(sub_dir)\n",
        "\n",
        "    # X_validate = np.array(X_validate)\n",
        "    # y_validate = np.array(y_validate)\n",
        "\n",
        "    return train_dataset, validation_dataset, X_train, y_train, X_validate, y_validate"
      ]
    },
    {
      "cell_type": "markdown",
      "metadata": {
        "id": "EeTOt3mW4fQO"
      },
      "source": [
        "# Funções auxiliares\n",
        "\n",
        "- GET precisão e perda\n",
        "- train e validate\n",
        "- train loop\n",
        "- Classify ([Exemplo de validação da rede SOM](https://github.com/JustGlowing/minisom/blob/master/examples/Classification.ipynb))\n",
        "- train_model_with_all_params (Chama train loop com o modelo atual para todos os conjuntos de parâmetros)"
      ]
    },
    {
      "cell_type": "code",
      "execution_count": null,
      "metadata": {
        "id": "Kurcxcub4fQO"
      },
      "outputs": [],
      "source": [
        "def train(train_loader, model, criterion, optimizer, device):\n",
        "    '''\n",
        "    Function for the training step of the training loop\n",
        "    '''\n",
        "    model.train()\n",
        "    running_loss = 0\n",
        "\n",
        "    for X, y_true in train_loader:\n",
        "        optimizer.zero_grad()\n",
        "\n",
        "        # print(y_true)\n",
        "        # print(y_true.size(0))\n",
        "        # print(\"=----------------=\")\n",
        "\n",
        "\n",
        "        X = X.to(device)\n",
        "        y_true = y_true.to(device)\n",
        "\n",
        "        # Forward pass\n",
        "        y_hat, _ = model(X)\n",
        "        # print(y_hat)\n",
        "        # print(y_hat.size())\n",
        "        # print(y_hat.max(), y_hat.min())\n",
        "        # print(y_true.max(), y_true.min())\n",
        "        # print(\"=----------------=\")\n",
        "        loss = criterion(model, y_hat, y_true)\n",
        "        running_loss += loss.item() * X.size(0)\n",
        "\n",
        "        # Backward pass\n",
        "        loss.backward()\n",
        "        optimizer.step()\n",
        "\n",
        "    epoch_loss = running_loss / len(train_loader.dataset)\n",
        "    return model, optimizer, epoch_loss\n",
        "\n",
        "\n",
        "def validate(valid_loader, model, criterion, device):\n",
        "    '''\n",
        "    Function for the validation step of the training loop\n",
        "    '''\n",
        "\n",
        "    model.eval()\n",
        "    running_loss = 0\n",
        "\n",
        "    for X, y_true in valid_loader:\n",
        "\n",
        "        X = X.to(device)\n",
        "        y_true = y_true.to(device)\n",
        "\n",
        "        # Forward pass and record loss\n",
        "        y_hat, _ = model(X)\n",
        "        loss = criterion(y_hat, y_true)\n",
        "        running_loss += loss.item() * X.size(0)\n",
        "\n",
        "    epoch_loss = running_loss / len(valid_loader.dataset)\n",
        "\n",
        "    return model, epoch_loss"
      ]
    },
    {
      "cell_type": "code",
      "execution_count": null,
      "metadata": {
        "id": "vfzWZ_dv4fQO"
      },
      "outputs": [],
      "source": [
        "def get_accuracy(model, data_loader, device):\n",
        "    '''\n",
        "    Function for computing the accuracy of the predictions over the entire data_loader\n",
        "    '''\n",
        "\n",
        "    correct_pred = 0\n",
        "    n = 0\n",
        "\n",
        "    with torch.no_grad():\n",
        "        model.eval()\n",
        "        for X, y_true in data_loader:\n",
        "\n",
        "            X = X.to(device)\n",
        "            y_true = y_true.to(device)\n",
        "\n",
        "            _, y_prob = model(X)\n",
        "            _, predicted_labels = torch.max(y_prob, 1)\n",
        "\n",
        "            n += y_true.size(0)\n",
        "            correct_pred += (predicted_labels == y_true).sum()\n",
        "\n",
        "    return correct_pred.float() / n\n",
        "\n",
        "\n",
        "def plot_losses(train_losses, valid_losses, model_name, instance, id):\n",
        "    '''\n",
        "    Function for plotting training and validation losses\n",
        "    '''\n",
        "\n",
        "    # temporarily change the style of the plots to seaborn\n",
        "    plt.style.use('seaborn-v0_8')\n",
        "\n",
        "    train_losses = np.array(train_losses)\n",
        "    valid_losses = np.array(valid_losses)\n",
        "\n",
        "    fig, ax = plt.subplots(figsize = (8, 4.5))\n",
        "\n",
        "    ax.plot(train_losses, color='blue', label='Training loss')\n",
        "    ax.plot(valid_losses, color='red', label='Validation loss')\n",
        "    ax.set(title=f\"Loss over epochs_{model_name}_{instance}_{id}\",\n",
        "            xlabel='Epoch',\n",
        "            ylabel='Loss')\n",
        "    ax.legend()\n",
        "    fig.show()\n",
        "    image_name = f\"loss_over_epoch_{model_name}_{instance}_{id}\"\n",
        "    fig.savefig(f\"/content/drive/MyDrive/Projeto de Redes Neurais/loss plots/{image_name}.png\")\n",
        "\n",
        "    # change the plot style to default\n",
        "    plt.style.use('default')"
      ]
    },
    {
      "cell_type": "code",
      "execution_count": null,
      "metadata": {
        "id": "x3igiRt53WVz"
      },
      "outputs": [],
      "source": [
        "def training_loop(model, criterion, criterion_wrapper, optimizer, train_loader, valid_loader, epochs, device, print_every=1, model_name=None, params=\"\", instance=\"i1\"):\n",
        "    '''\n",
        "    Function defining the entire training loop\n",
        "    '''\n",
        "\n",
        "    # set objects for storing metrics\n",
        "    best_loss = 1e10 # número grande de perda inicial\n",
        "    train_losses = []\n",
        "    valid_losses = []\n",
        "\n",
        "    # Carrega o id atual\n",
        "    with open(current_id_path) as current_id_file:\n",
        "        current_id = int(current_id_file.readline())\n",
        "\n",
        "\n",
        "    metrics_log_file = open(metrics_log_path, 'a')\n",
        "    metrics_log_file.write(f' - {model_name} - {instance} - id_{current_id} - \\n')\n",
        "\n",
        "    # Train model\n",
        "    for epoch in range(0, epochs):\n",
        "\n",
        "        # training\n",
        "        model, optimizer, train_loss = train(train_loader, model, criterion_wrapper, optimizer, device)\n",
        "        train_losses.append(train_loss)\n",
        "\n",
        "        # validation\n",
        "        with torch.no_grad():\n",
        "            model, valid_loss = validate(valid_loader, model, criterion, device)\n",
        "            valid_losses.append(valid_loss)\n",
        "\n",
        "\n",
        "        # if epoch % print_every == (print_every - 1):\n",
        "        train_acc = 100 * get_accuracy(model, train_loader, device=device)\n",
        "        valid_acc = 100 * get_accuracy(model, valid_loader, device=device)\n",
        "\n",
        "        train_acc_str = f'{train_acc:.2f}'\n",
        "        valid_acc_str = f'{valid_acc:.2f}'\n",
        "        train_loss_str = f'{train_loss:.2f}'\n",
        "        valid_loss_str = f'{valid_loss:.2f}'\n",
        "\n",
        "        log = (f'{datetime.now(tz).time().replace(microsecond=0)} - '\n",
        "                f'Epoch: {epoch} | '\n",
        "                f'Train loss: {train_loss_str} | '\n",
        "                f'Valid loss: {valid_loss_str} | '\n",
        "                f'Train accuracy: {train_acc_str} | '\n",
        "                f'Valid accuracy: {valid_acc_str}\\n')\n",
        "        print(log, end='')\n",
        "        metrics_log_file.write(log)\n",
        "        # print(f'{datetime.now().time().replace(microsecond=0)} --- '\n",
        "        #       f'Epoch: {epoch}\\t'\n",
        "        #       f'Train loss: {train_loss:.4f}\\t'\n",
        "        #       f'Valid loss: {valid_loss:.4f}\\t'\n",
        "        #       f'Train accuracy: {train_acc:.2f}\\t'\n",
        "        #       f'Valid accuracy: {valid_acc:.2f}')\n",
        "\n",
        "    # Append metrics to existing file\n",
        "    with open(result_path, 'a', newline='') as f:\n",
        "        writer = csv.writer(f)\n",
        "        writer.writerow([\n",
        "            model_name, current_id, instance, epochs, params,\n",
        "            train_loss_str, valid_loss_str, train_acc_str, valid_acc_str\n",
        "        ])\n",
        "\n",
        "    plot_losses(train_losses, valid_losses, model_name, instance, current_id)\n",
        "\n",
        "    # Update id value\n",
        "    with open(current_id_path, 'w') as current_id_file:\n",
        "        current_id_file.write(str(current_id + 1))\n",
        "\n",
        "    # Save model if validation accuracy is high\n",
        "    if valid_acc >= ACCURACY_THRESHOLD:\n",
        "        print(' = ---            +             --- = ')\n",
        "        print(f\"Saved model as {model_name}_{instance}_{current_id}.pt\")\n",
        "        torch.save(\n",
        "            model.state_dict(),\n",
        "            f\"{saved_models_path}/{model_name}_{instance}_{current_id}.pt\"\n",
        "        )\n",
        "\n",
        "        # Later to restore:\n",
        "        # model.load_state_dict(torch.load(filepath))\n",
        "        # model.eval()\n",
        "\n",
        "    print(' - -------------------------------- - ')\n",
        "    metrics_log_file.write(' - -------------------------------- - \\n')\n",
        "    metrics_log_file.close()\n",
        "\n",
        "    return model, current_id, valid_acc"
      ]
    },
    {
      "cell_type": "code",
      "execution_count": null,
      "metadata": {
        "id": "Tt5zX3K-gDn4"
      },
      "outputs": [],
      "source": [
        "def train_model_with_all_params(model_class, target_dim, params, train_dataset, validation_dataset, model_name, instance_name):\n",
        "    \"\"\"\n",
        "        Roda cada combinação de parâmetros\n",
        "    \"\"\"\n",
        "    for LEARNING_RATE, BATCH_SIZE, N_EPOCHS, CRITERION, OPTIMIZER in params:\n",
        "\n",
        "        current_model = model_class(target_dim).to(DEVICE)\n",
        "\n",
        "        # Define the data loaders\n",
        "        train_loader = DataLoader(train_dataset, BATCH_SIZE, shuffle=False)\n",
        "        validation_loader = DataLoader(validation_dataset, BATCH_SIZE, shuffle=False)\n",
        "\n",
        "        # Inicializa criterion e optimizer\n",
        "        L1_lambda = CRITERION.get('L1 lambda')\n",
        "        CRITERION = CRITERION.get('loss function')()\n",
        "        # Branch (and slower) implementation of L1 regulation\n",
        "        # if l1_lambda != 0:\n",
        "        #     CRITERION_WRAPPER = lambda y_hat, y_true: CRITERION(y_hat, y_true) + l1_lambda * sum(p.abs().sum() for p in model.parameters())\n",
        "        # else:\n",
        "        #     CRITERION_WRAPPER = lambda y_hat, y_true: CaaaaaRITERION(y_hat, y_true)\n",
        "        # Branchless (and faster) implementation of L1 regulation\n",
        "        CRITERION_WRAPPER = (\n",
        "            (\n",
        "                L1_lambda > 0 # if l1_lambda is positive, then use l1_norm\n",
        "                and\n",
        "                # l1_norm is defined at begin of code\n",
        "                (lambda model, y_hat, y_true: CRITERION(y_hat, y_true) + L1_lambda * L1_norm(model))\n",
        "            )\n",
        "            or\n",
        "            (   # else: use only criterion (loss function)\n",
        "                lambda _, y_hat, y_true: CRITERION(y_hat, y_true)\n",
        "            )\n",
        "        )\n",
        "        # if OPTIMIZER.get('Use L2 Regularizairion'):\n",
        "        weight_decay = OPTIMIZER.get('weight decay') # {str(OPTIMIZER)[177:str(OPTIMIZER).find(')')]}\n",
        "        OPTIMIZER = OPTIMIZER.get('optimizer function')\n",
        "        OPTIMIZER = OPTIMIZER(current_model.parameters(), lr=LEARNING_RATE, weight_decay=weight_decay)\n",
        "\n",
        "        # Treina e valida o modelo\n",
        "        params_json_string = f\"{{'learning_rate': {LEARNING_RATE}, 'batch_size': {BATCH_SIZE}, 'n_epochs': {N_EPOCHS}, criterion: {str(CRITERION)[:-2]}, optimizer: {str(OPTIMIZER)[:4]}, weight_decay: {weight_decay}, L1_lambda: {L1_lambda}}}\"\n",
        "        current_model, current_id, valid_acc = training_loop(\n",
        "            current_model,\n",
        "            CRITERION, CRITERION_WRAPPER, OPTIMIZER,\n",
        "            train_loader, validation_loader,\n",
        "            N_EPOCHS,\n",
        "            DEVICE,\n",
        "            print_every = 1,\n",
        "            model_name = model_name,\n",
        "            params = params_json_string,\n",
        "            instance = instance_name\n",
        "        )"
      ]
    },
    {
      "cell_type": "code",
      "execution_count": null,
      "metadata": {
        "id": "6plP9etCv2LO"
      },
      "outputs": [],
      "source": [
        "def classify(som, data):\n",
        "    \"\"\"Classifies each sample in data in one of the classes definited\n",
        "    using the method labels_map.\n",
        "    Returns a list of the same length of data where the i-th element\n",
        "    is the class assigned to data[i].\n",
        "    \"\"\"\n",
        "    winmap = som.labels_map(X_train, y_train)\n",
        "    default_class = np.sum(list(winmap.values())).most_common()[0][0]\n",
        "    result = []\n",
        "    for d in data:\n",
        "        win_position = som.winner(d)\n",
        "        if win_position in winmap:\n",
        "            result.append(winmap[win_position].most_common()[0][0])\n",
        "        else:\n",
        "            result.append(default_class)\n",
        "    return result"
      ]
    },
    {
      "cell_type": "markdown",
      "metadata": {
        "id": "IdhpzmaGUyUx"
      },
      "source": [
        "# Treino e validação com as redes convolucionais"
      ]
    },
    {
      "cell_type": "markdown",
      "metadata": {
        "id": "jihgbP674fQP"
      },
      "source": [
        "## Treino e validação de conjunto de artefato"
      ]
    },
    {
      "cell_type": "code",
      "execution_count": null,
      "metadata": {
        "id": "ZaXlSzDDAofk"
      },
      "outputs": [],
      "source": [
        "train_dataset, validation_dataset, X_train, y_train, X_validate, y_validate = define_train_dataset(drive_path_train_by_artifact_set, drive_path_validate_by_artifact_set)\n",
        "# print(train_dataset)\n",
        "# print(validation_dataset)"
      ]
    },
    {
      "cell_type": "code",
      "execution_count": null,
      "metadata": {
        "id": "bRCcPKlLz9B0"
      },
      "outputs": [],
      "source": [
        "# Model 2 - VGG_mini\n",
        "# train_model_with_all_params(VGG_mini, ARTIFACT_SET_N, params_cnn, train_dataset, validation_dataset, 'VGG_mini', 'p1')"
      ]
    },
    {
      "cell_type": "code",
      "execution_count": null,
      "metadata": {
        "id": "tT1sxh1UH6S2"
      },
      "outputs": [],
      "source": [
        "# Para o treinamento com dataset de conjunto de artefato\n",
        "# esse ou ID49 sera o melhor\n",
        "CNN_LEARNING_RATES = [5e-4]\n",
        "BATCH_SIZES = [101]\n",
        "N_EPOCHS = [75]\n",
        "CRITERIONS = [\n",
        "    loss_functions['nn.CrossEntropyLoss'],\n",
        "]\n",
        "OPTIMIZERS = [\n",
        "    optimizers['with L2']['torch.optim.RMSprop'],\n",
        "]\n",
        "params_cnn = list(itertools.product(\n",
        "    CNN_LEARNING_RATES, BATCH_SIZES, N_EPOCHS, CRITERIONS, OPTIMIZERS\n",
        "))"
      ]
    },
    {
      "cell_type": "code",
      "execution_count": null,
      "metadata": {
        "colab": {
          "base_uri": "https://localhost:8080/",
          "height": 1000
        },
        "id": "ab1AtBZOz87L",
        "outputId": "591cf34d-ff13-4fd5-b3e5-27b53c075a88"
      },
      "outputs": [
        {
          "name": "stderr",
          "output_type": "stream",
          "text": [
            "/usr/local/lib/python3.9/dist-packages/torchvision/transforms/functional.py:1603: UserWarning: The default value of the antialias parameter of all the resizing transforms (Resize(), RandomResizedCrop(), etc.) will change from None to True in v0.17, in order to be consistent across the PIL and Tensor backends. To suppress this warning, directly pass antialias=True (recommended, future default), antialias=None (current default, which means False for Tensors and True for PIL), or antialias=False (only works on Tensors - PIL will still use antialiasing). This also applies if you are using the inference transforms from the models weights: update the call to weights.transforms(antialias=True).\n",
            "  warnings.warn(\n"
          ]
        },
        {
          "name": "stdout",
          "output_type": "stream",
          "text": [
            "16:36:28 - Epoch: 0 | Train loss: 3.85 | Valid loss: 3.70 | Train accuracy: 1.32 | Valid accuracy: 1.54\n",
            "16:39:03 - Epoch: 1 | Train loss: 3.58 | Valid loss: 3.66 | Train accuracy: 3.30 | Valid accuracy: 3.08\n",
            "16:41:39 - Epoch: 2 | Train loss: 3.30 | Valid loss: 3.71 | Train accuracy: 3.30 | Valid accuracy: 3.08\n",
            "16:44:23 - Epoch: 3 | Train loss: 3.04 | Valid loss: 3.58 | Train accuracy: 9.24 | Valid accuracy: 6.15\n",
            "16:46:59 - Epoch: 4 | Train loss: 2.93 | Valid loss: 3.66 | Train accuracy: 7.59 | Valid accuracy: 6.15\n",
            "16:49:35 - Epoch: 5 | Train loss: 2.58 | Valid loss: 3.71 | Train accuracy: 4.29 | Valid accuracy: 3.85\n",
            "16:52:11 - Epoch: 6 | Train loss: 2.35 | Valid loss: 3.72 | Train accuracy: 3.96 | Valid accuracy: 3.08\n",
            "16:54:53 - Epoch: 7 | Train loss: 2.10 | Valid loss: 3.74 | Train accuracy: 4.29 | Valid accuracy: 3.08\n",
            "16:57:32 - Epoch: 8 | Train loss: 1.95 | Valid loss: 3.72 | Train accuracy: 4.95 | Valid accuracy: 3.08\n",
            "17:00:08 - Epoch: 9 | Train loss: 1.81 | Valid loss: 3.73 | Train accuracy: 3.96 | Valid accuracy: 3.08\n",
            "17:02:46 - Epoch: 10 | Train loss: 1.71 | Valid loss: 3.67 | Train accuracy: 7.92 | Valid accuracy: 5.38\n",
            "17:05:29 - Epoch: 11 | Train loss: 1.58 | Valid loss: 3.65 | Train accuracy: 7.92 | Valid accuracy: 6.15\n",
            "17:08:06 - Epoch: 12 | Train loss: 1.53 | Valid loss: 3.57 | Train accuracy: 11.22 | Valid accuracy: 9.23\n",
            "17:10:38 - Epoch: 13 | Train loss: 1.41 | Valid loss: 3.51 | Train accuracy: 14.19 | Valid accuracy: 8.46\n",
            "17:13:17 - Epoch: 14 | Train loss: 1.30 | Valid loss: 3.37 | Train accuracy: 25.41 | Valid accuracy: 14.62\n",
            "17:16:02 - Epoch: 15 | Train loss: 1.21 | Valid loss: 3.29 | Train accuracy: 34.65 | Valid accuracy: 17.69\n",
            "17:18:39 - Epoch: 16 | Train loss: 1.12 | Valid loss: 3.11 | Train accuracy: 67.33 | Valid accuracy: 33.08\n",
            "17:21:14 - Epoch: 17 | Train loss: 1.06 | Valid loss: 3.00 | Train accuracy: 79.87 | Valid accuracy: 36.92\n",
            "17:23:53 - Epoch: 18 | Train loss: 1.00 | Valid loss: 2.80 | Train accuracy: 91.75 | Valid accuracy: 46.92\n",
            "17:26:40 - Epoch: 19 | Train loss: 0.96 | Valid loss: 2.72 | Train accuracy: 95.38 | Valid accuracy: 52.31\n",
            "17:29:17 - Epoch: 20 | Train loss: 0.93 | Valid loss: 2.60 | Train accuracy: 96.37 | Valid accuracy: 55.38\n",
            "17:31:58 - Epoch: 21 | Train loss: 0.90 | Valid loss: 2.45 | Train accuracy: 98.35 | Valid accuracy: 59.23\n",
            "17:34:34 - Epoch: 22 | Train loss: 0.86 | Valid loss: 2.44 | Train accuracy: 98.02 | Valid accuracy: 59.23\n",
            "17:37:13 - Epoch: 23 | Train loss: 0.83 | Valid loss: 2.29 | Train accuracy: 99.01 | Valid accuracy: 62.31\n",
            "17:39:52 - Epoch: 24 | Train loss: 0.79 | Valid loss: 2.30 | Train accuracy: 99.34 | Valid accuracy: 63.08\n",
            "17:42:29 - Epoch: 25 | Train loss: 0.76 | Valid loss: 2.22 | Train accuracy: 99.01 | Valid accuracy: 66.92\n",
            "17:45:09 - Epoch: 26 | Train loss: 0.72 | Valid loss: 2.24 | Train accuracy: 99.67 | Valid accuracy: 66.92\n",
            "17:47:45 - Epoch: 27 | Train loss: 0.68 | Valid loss: 2.20 | Train accuracy: 99.67 | Valid accuracy: 66.15\n",
            "17:50:24 - Epoch: 28 | Train loss: 0.65 | Valid loss: 2.18 | Train accuracy: 99.67 | Valid accuracy: 64.62\n",
            "17:53:01 - Epoch: 29 | Train loss: 0.63 | Valid loss: 2.14 | Train accuracy: 99.67 | Valid accuracy: 66.92\n",
            "17:55:39 - Epoch: 30 | Train loss: 0.61 | Valid loss: 2.10 | Train accuracy: 99.67 | Valid accuracy: 70.77\n",
            "17:58:17 - Epoch: 31 | Train loss: 0.59 | Valid loss: 2.08 | Train accuracy: 99.34 | Valid accuracy: 66.92\n",
            "18:00:54 - Epoch: 32 | Train loss: 0.58 | Valid loss: 2.06 | Train accuracy: 99.67 | Valid accuracy: 70.77\n",
            "18:03:33 - Epoch: 33 | Train loss: 0.56 | Valid loss: 2.03 | Train accuracy: 99.34 | Valid accuracy: 68.46\n",
            "18:06:09 - Epoch: 34 | Train loss: 0.53 | Valid loss: 2.05 | Train accuracy: 99.67 | Valid accuracy: 66.15\n",
            "18:08:49 - Epoch: 35 | Train loss: 0.51 | Valid loss: 2.03 | Train accuracy: 99.67 | Valid accuracy: 69.23\n",
            "18:11:29 - Epoch: 36 | Train loss: 0.49 | Valid loss: 2.03 | Train accuracy: 99.67 | Valid accuracy: 66.92\n",
            "18:14:05 - Epoch: 37 | Train loss: 0.47 | Valid loss: 2.00 | Train accuracy: 100.00 | Valid accuracy: 69.23\n",
            "18:16:43 - Epoch: 38 | Train loss: 0.45 | Valid loss: 1.97 | Train accuracy: 99.67 | Valid accuracy: 68.46\n",
            "18:19:21 - Epoch: 39 | Train loss: 0.44 | Valid loss: 1.98 | Train accuracy: 100.00 | Valid accuracy: 68.46\n",
            "18:21:58 - Epoch: 40 | Train loss: 0.43 | Valid loss: 1.90 | Train accuracy: 99.67 | Valid accuracy: 69.23\n",
            "18:24:35 - Epoch: 41 | Train loss: 0.42 | Valid loss: 1.98 | Train accuracy: 100.00 | Valid accuracy: 67.69\n",
            "18:27:14 - Epoch: 42 | Train loss: 0.40 | Valid loss: 1.85 | Train accuracy: 99.67 | Valid accuracy: 69.23\n",
            "18:29:54 - Epoch: 43 | Train loss: 0.39 | Valid loss: 1.95 | Train accuracy: 100.00 | Valid accuracy: 70.77\n",
            "18:32:34 - Epoch: 44 | Train loss: 0.38 | Valid loss: 1.84 | Train accuracy: 100.00 | Valid accuracy: 70.00\n",
            "18:35:13 - Epoch: 45 | Train loss: 0.37 | Valid loss: 1.92 | Train accuracy: 100.00 | Valid accuracy: 70.00\n",
            "18:37:54 - Epoch: 46 | Train loss: 0.35 | Valid loss: 1.85 | Train accuracy: 100.00 | Valid accuracy: 70.77\n",
            "18:40:34 - Epoch: 47 | Train loss: 0.34 | Valid loss: 1.87 | Train accuracy: 100.00 | Valid accuracy: 70.77\n",
            "18:43:14 - Epoch: 48 | Train loss: 0.33 | Valid loss: 1.85 | Train accuracy: 100.00 | Valid accuracy: 71.54\n",
            "18:45:54 - Epoch: 49 | Train loss: 0.32 | Valid loss: 1.85 | Train accuracy: 100.00 | Valid accuracy: 70.00\n",
            "18:48:33 - Epoch: 50 | Train loss: 0.31 | Valid loss: 1.83 | Train accuracy: 100.00 | Valid accuracy: 71.54\n",
            "18:51:11 - Epoch: 51 | Train loss: 0.30 | Valid loss: 1.84 | Train accuracy: 100.00 | Valid accuracy: 70.00\n",
            "18:53:49 - Epoch: 52 | Train loss: 0.29 | Valid loss: 1.82 | Train accuracy: 100.00 | Valid accuracy: 71.54\n",
            "18:56:26 - Epoch: 53 | Train loss: 0.29 | Valid loss: 1.79 | Train accuracy: 100.00 | Valid accuracy: 71.54\n",
            "18:59:01 - Epoch: 54 | Train loss: 0.28 | Valid loss: 1.84 | Train accuracy: 100.00 | Valid accuracy: 72.31\n",
            "19:01:34 - Epoch: 55 | Train loss: 0.27 | Valid loss: 1.76 | Train accuracy: 100.00 | Valid accuracy: 70.77\n",
            "19:04:03 - Epoch: 56 | Train loss: 0.26 | Valid loss: 1.82 | Train accuracy: 100.00 | Valid accuracy: 73.08\n",
            "19:06:31 - Epoch: 57 | Train loss: 0.25 | Valid loss: 1.75 | Train accuracy: 100.00 | Valid accuracy: 70.77\n",
            "19:09:01 - Epoch: 58 | Train loss: 0.25 | Valid loss: 1.77 | Train accuracy: 100.00 | Valid accuracy: 70.77\n",
            "19:11:33 - Epoch: 59 | Train loss: 0.24 | Valid loss: 1.73 | Train accuracy: 100.00 | Valid accuracy: 70.00\n",
            "19:14:06 - Epoch: 60 | Train loss: 0.23 | Valid loss: 1.76 | Train accuracy: 100.00 | Valid accuracy: 70.77\n",
            "19:16:34 - Epoch: 61 | Train loss: 0.22 | Valid loss: 1.73 | Train accuracy: 100.00 | Valid accuracy: 70.00\n",
            "19:19:07 - Epoch: 62 | Train loss: 0.21 | Valid loss: 1.74 | Train accuracy: 100.00 | Valid accuracy: 70.00\n",
            "19:21:35 - Epoch: 63 | Train loss: 0.21 | Valid loss: 1.73 | Train accuracy: 100.00 | Valid accuracy: 70.00\n",
            "19:24:04 - Epoch: 64 | Train loss: 0.20 | Valid loss: 1.72 | Train accuracy: 100.00 | Valid accuracy: 70.77\n",
            "19:26:36 - Epoch: 65 | Train loss: 0.20 | Valid loss: 1.71 | Train accuracy: 100.00 | Valid accuracy: 69.23\n",
            "19:29:05 - Epoch: 66 | Train loss: 0.19 | Valid loss: 1.72 | Train accuracy: 100.00 | Valid accuracy: 70.77\n",
            "19:31:34 - Epoch: 67 | Train loss: 0.19 | Valid loss: 1.67 | Train accuracy: 100.00 | Valid accuracy: 70.77\n",
            "19:34:06 - Epoch: 68 | Train loss: 0.19 | Valid loss: 1.70 | Train accuracy: 100.00 | Valid accuracy: 70.77\n",
            "19:36:35 - Epoch: 69 | Train loss: 0.19 | Valid loss: 1.66 | Train accuracy: 100.00 | Valid accuracy: 70.77\n",
            "19:39:03 - Epoch: 70 | Train loss: 0.19 | Valid loss: 1.72 | Train accuracy: 100.00 | Valid accuracy: 70.00\n",
            "19:41:35 - Epoch: 71 | Train loss: 0.19 | Valid loss: 1.66 | Train accuracy: 100.00 | Valid accuracy: 72.31\n",
            "19:44:04 - Epoch: 72 | Train loss: 0.19 | Valid loss: 1.69 | Train accuracy: 100.00 | Valid accuracy: 71.54\n",
            "19:46:33 - Epoch: 73 | Train loss: 0.17 | Valid loss: 1.67 | Train accuracy: 100.00 | Valid accuracy: 70.00\n",
            "19:49:05 - Epoch: 74 | Train loss: 0.16 | Valid loss: 1.65 | Train accuracy: 100.00 | Valid accuracy: 72.31\n",
            " - -------------------------------- - \n"
          ]
        },
        {
          "data": {
            "image/png": "[encoded data removed]",
            "text/plain": [
              "<Figure size 800x450 with 1 Axes>"
            ]
          },
          "metadata": {},
          "output_type": "display_data"
        }
      ],
      "source": [
        "# # Model 3 - Custom_CNN\n",
        "train_model_with_all_params(Custom_CNN, ARTIFACT_SET_N, params_cnn, train_dataset, validation_dataset, 'Custom_CNN', 'p1')"
      ]
    },
    {
      "cell_type": "markdown",
      "metadata": {
        "id": "Xk2mxgC9yO7j"
      },
      "source": [
        "## Treino e validação de raridade de artefato"
      ]
    },
    {
      "cell_type": "code",
      "execution_count": null,
      "metadata": {
        "id": "P6sgZpm5xcSY"
      },
      "outputs": [],
      "source": [
        "train_dataset, validation_dataset, X_train, y_train, X_validate, y_validate = define_train_dataset(drive_path_train_by_rarity, drive_path_validate_by_rarity)\n",
        "# print(train_dataset)\n",
        "# print(validation_dataset)"
      ]
    },
    {
      "cell_type": "code",
      "execution_count": null,
      "metadata": {
        "id": "G4GWVR4QyYpi"
      },
      "outputs": [],
      "source": [
        "# # Model 2 - VGG_mini\n",
        "# current_id = train_model_with_all_params(VGG_mini, RARITY_N, params_cnn_2, train_dataset, validation_dataset, 'VGG_mini', 'p2')"
      ]
    },
    {
      "cell_type": "code",
      "execution_count": null,
      "metadata": {
        "id": "q22aILPOKVy1"
      },
      "outputs": [],
      "source": [
        "CNN_LEARNING_RATES_2 = [1e-4]\n",
        "BATCH_SIZES_2 = [13]\n",
        "N_EPOCHS_2 = [20]\n",
        "CRITERIONS_2 = [\n",
        "    loss_functions['nn.CrossEntropyLoss'],\n",
        "]\n",
        "OPTIMIZERS_2 = [\n",
        "    optimizers['torch.optim.Adam'],\n",
        "]\n",
        "params_cnn_2 = list(itertools.product(\n",
        "    CNN_LEARNING_RATES_2, BATCH_SIZES_2, N_EPOCHS_2, CRITERIONS_2, OPTIMIZERS_2\n",
        "))"
      ]
    },
    {
      "cell_type": "code",
      "execution_count": null,
      "metadata": {
        "id": "8f6o24KnyaDm"
      },
      "outputs": [],
      "source": [
        "# # Model 3 - Custom_CNN\n",
        "# current_id = train_model_with_all_params(Custom_CNN, RARITY_N, params_cnn_2, train_dataset, validation_dataset, 'Custom_CNN', 'p2')"
      ]
    },
    {
      "cell_type": "markdown",
      "metadata": {
        "id": "n-Njmyb0UpLk"
      },
      "source": [
        "# Treino e validação com a rede SOM"
      ]
    },
    {
      "cell_type": "markdown",
      "metadata": {
        "id": "3gukCrtYU5Fs"
      },
      "source": [
        "## Treino e validação de conjunto de artefato"
      ]
    },
    {
      "cell_type": "markdown",
      "metadata": {
        "id": "YtwNQeb7U8Xt"
      },
      "source": [
        "## Treino e validação de raridade de artefato"
      ]
    }
  ],
  "metadata": {
    "colab": {
      "collapsed_sections": [
        "bw5R1i_UzmHR",
        "BCuQGQ32RnrE",
        "o8uwpsqi4fQM",
        "9UGdEJkISAqB",
        "lGe2h-_L4fQN",
        "jihgbP674fQP",
        "Xk2mxgC9yO7j"
      ],
      "provenance": [],
      "toc_visible": true
    },
    "kernelspec": {
      "display_name": "Python 3",
      "language": "python",
      "name": "python3"
    },
    "language_info": {
      "codemirror_mode": {
        "name": "ipython",
        "version": 3
      },
      "file_extension": ".py",
      "mimetype": "text/x-python",
      "name": "python",
      "nbconvert_exporter": "python",
      "pygments_lexer": "ipython3",
      "version": "3.10.2"
    }
  },
  "nbformat": 4,
  "nbformat_minor": 0
}
